{
 "cells": [
  {
   "cell_type": "markdown",
   "metadata": {},
   "source": [
    "## DSC Courses: Assignment Grades Main"
   ]
  },
  {
   "cell_type": "code",
   "execution_count": 1,
   "metadata": {},
   "outputs": [],
   "source": [
    "import sys\n",
    "sys.path.insert(0, 'src')\n",
    "\n",
    "# tables\n",
    "import numpy as np\n",
    "import pandas as pd\n",
    "\n",
    "# basic packages\n",
    "from glob import glob\n",
    "import json\n",
    "import re\n",
    "\n",
    "# grades, canvas\n",
    "from canvasapi import Canvas\n",
    "from third_parties import *"
   ]
  },
  {
   "cell_type": "markdown",
   "metadata": {},
   "source": [
    "### Setup"
   ]
  },
  {
   "cell_type": "markdown",
   "metadata": {},
   "source": [
    "#### Canvas Setup"
   ]
  },
  {
   "cell_type": "code",
   "execution_count": 2,
   "metadata": {},
   "outputs": [],
   "source": [
    "# load credential\n",
    "CREDENTIAL_FILE = '.info/canvas_credentials.json'\n",
    "with open(CREDENTIAL_FILE) as f:\n",
    "    canvas_credential = json.load(f)"
   ]
  },
  {
   "cell_type": "code",
   "execution_count": 3,
   "metadata": {},
   "outputs": [
    {
     "name": "stdout",
     "output_type": "stream",
     "text": [
      "DSC 20 - Prgrmng/DataStruc for Data Sci - Langlois [FA23]\n"
     ]
    }
   ],
   "source": [
    "# Setup: Canvas\n",
    "API_URL = \"https://canvas.ucsd.edu/\"\n",
    "API_KEY = canvas_credential['API_KEY']        # Generate Access Token from Canvas\n",
    "COURSE_ID = canvas_credential['COURSE_ID']    # From Canvas Website\n",
    "COURSE = Canvas(API_URL, API_KEY).get_course(COURSE_ID)\n",
    "\n",
    "print(COURSE.name) # make sure title and quarter is correct"
   ]
  },
  {
   "cell_type": "markdown",
   "metadata": {},
   "source": [
    "#### Personnel Setup"
   ]
  },
  {
   "cell_type": "code",
   "execution_count": 4,
   "metadata": {},
   "outputs": [
    {
     "name": "stdout",
     "output_type": "stream",
     "text": [
      "113\n"
     ]
    }
   ],
   "source": [
    "# Setup: Student Profiles (ID, Name, Email)\n",
    "student_ls = []\n",
    "for stu in COURSE.get_users(enrollment_type=['student'], enrollment_state=['active']):\n",
    "    student_ls.append([stu.id, stu.name, stu.email])\n",
    "STUDENTS = pd.DataFrame(student_ls, columns=[\"id\", \"name\", \"email\"])\n",
    "STUDENTS.to_csv(\".info/students.csv\")\n",
    "print(STUDENTS.shape[0])"
   ]
  },
  {
   "cell_type": "code",
   "execution_count": 5,
   "metadata": {},
   "outputs": [],
   "source": [
    "# Setup: Staff Profiles\n",
    "STAFF = pd.read_csv('.info/staff_fa23.csv')['Email'].unique()"
   ]
  },
  {
   "cell_type": "code",
   "execution_count": 6,
   "metadata": {},
   "outputs": [
    {
     "data": {
      "text/plain": [
       "{}"
      ]
     },
     "execution_count": 6,
     "metadata": {},
     "output_type": "execute_result"
    }
   ],
   "source": [
    "# Setup: Mismatched emails\n",
    "with open('.info/email_records.json') as f:\n",
    "    EMAIL_RECORDS = json.load(f)\n",
    "EMAIL_RECORDS"
   ]
  },
  {
   "cell_type": "markdown",
   "metadata": {},
   "source": [
    "### Slido"
   ]
  },
  {
   "cell_type": "code",
   "execution_count": null,
   "metadata": {
    "scrolled": false
   },
   "outputs": [],
   "source": [
    "# setup\n",
    "fname = \"lec01.xlsx\"  # change file name\n",
    "aname = 'Lecture 01 (09/23)'  # change for each lecture\n",
    "\n",
    "# create gradebook\n",
    "slido_lec = Slido(COURSE, STUDENTS, STAFF, EMAIL_RECORDS, fname, aname)\n",
    "gradebook = slido_lec.create_gradebook()\n",
    "gradebook"
   ]
  },
  {
   "cell_type": "code",
   "execution_count": null,
   "metadata": {
    "scrolled": true
   },
   "outputs": [],
   "source": [
    "# once inspected, enter grades\n",
    "slido_lec.enter_grades()"
   ]
  },
  {
   "cell_type": "markdown",
   "metadata": {},
   "source": [
    "### WebClicker"
   ]
  },
  {
   "cell_type": "code",
   "execution_count": 7,
   "metadata": {},
   "outputs": [
    {
     "data": {
      "text/html": [
       "<div>\n",
       "<style scoped>\n",
       "    .dataframe tbody tr th:only-of-type {\n",
       "        vertical-align: middle;\n",
       "    }\n",
       "\n",
       "    .dataframe tbody tr th {\n",
       "        vertical-align: top;\n",
       "    }\n",
       "\n",
       "    .dataframe thead th {\n",
       "        text-align: right;\n",
       "    }\n",
       "</style>\n",
       "<table border=\"1\" class=\"dataframe\">\n",
       "  <thead>\n",
       "    <tr style=\"text-align: right;\">\n",
       "      <th></th>\n",
       "      <th>id</th>\n",
       "      <th>name</th>\n",
       "      <th>typed_email</th>\n",
       "      <th>Last Name</th>\n",
       "      <th>First Name</th>\n",
       "      <th>Student Identifier</th>\n",
       "      <th>Session 1</th>\n",
       "      <th>Lecture 01 (09/29)</th>\n",
       "    </tr>\n",
       "    <tr>\n",
       "      <th>email</th>\n",
       "      <th></th>\n",
       "      <th></th>\n",
       "      <th></th>\n",
       "      <th></th>\n",
       "      <th></th>\n",
       "      <th></th>\n",
       "      <th></th>\n",
       "      <th></th>\n",
       "    </tr>\n",
       "  </thead>\n",
       "  <tbody>\n",
       "    <tr>\n",
       "      <th>caban@ucsd.edu</th>\n",
       "      <td>133387.0</td>\n",
       "      <td>Cecilia Marie Aban</td>\n",
       "      <td>caban@ucsd.edu</td>\n",
       "      <td>Aban</td>\n",
       "      <td>Cecilia Marie</td>\n",
       "      <td>A16841386</td>\n",
       "      <td>D</td>\n",
       "      <td>1.0</td>\n",
       "    </tr>\n",
       "    <tr>\n",
       "      <th>rmamador@ucsd.edu</th>\n",
       "      <td>165708.0</td>\n",
       "      <td>Ricardo Amador</td>\n",
       "      <td>NaN</td>\n",
       "      <td>NaN</td>\n",
       "      <td>NaN</td>\n",
       "      <td>NaN</td>\n",
       "      <td>NaN</td>\n",
       "      <td>0.0</td>\n",
       "    </tr>\n",
       "    <tr>\n",
       "      <th>iamangeldi@ucsd.edu</th>\n",
       "      <td>159720.0</td>\n",
       "      <td>Imangali Amangeldi</td>\n",
       "      <td>NaN</td>\n",
       "      <td>NaN</td>\n",
       "      <td>NaN</td>\n",
       "      <td>NaN</td>\n",
       "      <td>NaN</td>\n",
       "      <td>0.0</td>\n",
       "    </tr>\n",
       "    <tr>\n",
       "      <th>hamarovillamar@ucsd.edu</th>\n",
       "      <td>137827.0</td>\n",
       "      <td>Heidy Amaro-Villamar</td>\n",
       "      <td>hamarovillamar@ucsd.edu</td>\n",
       "      <td>Amaro</td>\n",
       "      <td>Heidy</td>\n",
       "      <td>A17096411</td>\n",
       "      <td>A</td>\n",
       "      <td>1.0</td>\n",
       "    </tr>\n",
       "    <tr>\n",
       "      <th>gbarrosk@ucsd.edu</th>\n",
       "      <td>97951.0</td>\n",
       "      <td>Griffin Barros-King</td>\n",
       "      <td>NaN</td>\n",
       "      <td>NaN</td>\n",
       "      <td>NaN</td>\n",
       "      <td>NaN</td>\n",
       "      <td>NaN</td>\n",
       "      <td>0.0</td>\n",
       "    </tr>\n",
       "    <tr>\n",
       "      <th>...</th>\n",
       "      <td>...</td>\n",
       "      <td>...</td>\n",
       "      <td>...</td>\n",
       "      <td>...</td>\n",
       "      <td>...</td>\n",
       "      <td>...</td>\n",
       "      <td>...</td>\n",
       "      <td>...</td>\n",
       "    </tr>\n",
       "    <tr>\n",
       "      <th>Gbarrosk@ucsd.edu</th>\n",
       "      <td>NaN</td>\n",
       "      <td>NaN</td>\n",
       "      <td>Gbarrosk@ucsd.edu</td>\n",
       "      <td>Barros-King</td>\n",
       "      <td>Griffin</td>\n",
       "      <td>A16519765</td>\n",
       "      <td>NaN</td>\n",
       "      <td>0.0</td>\n",
       "    </tr>\n",
       "    <tr>\n",
       "      <th>aklinefelter@ucsd.edu</th>\n",
       "      <td>NaN</td>\n",
       "      <td>NaN</td>\n",
       "      <td>aklinefelter@ucsd.edu</td>\n",
       "      <td>Klinefelter</td>\n",
       "      <td>Aiden</td>\n",
       "      <td>A17036379</td>\n",
       "      <td>D</td>\n",
       "      <td>1.0</td>\n",
       "    </tr>\n",
       "    <tr>\n",
       "      <th>awinograd@ucsd.edu</th>\n",
       "      <td>NaN</td>\n",
       "      <td>NaN</td>\n",
       "      <td>awinograd@ucsd.edu</td>\n",
       "      <td>Winograd</td>\n",
       "      <td>Ari</td>\n",
       "      <td>A16640024</td>\n",
       "      <td>A</td>\n",
       "      <td>1.0</td>\n",
       "    </tr>\n",
       "    <tr>\n",
       "      <th>corvoleaf712@gmail.com</th>\n",
       "      <td>NaN</td>\n",
       "      <td>NaN</td>\n",
       "      <td>corvoleaf712@gmail.com</td>\n",
       "      <td>ZHANG</td>\n",
       "      <td>SHUHAO</td>\n",
       "      <td>U09807043</td>\n",
       "      <td>NaN</td>\n",
       "      <td>0.0</td>\n",
       "    </tr>\n",
       "    <tr>\n",
       "      <th>rbatubara@ucsd.edu</th>\n",
       "      <td>NaN</td>\n",
       "      <td>NaN</td>\n",
       "      <td>rbatubara@ucsd.edu</td>\n",
       "      <td>Batubara</td>\n",
       "      <td>Ryan</td>\n",
       "      <td>A17407896</td>\n",
       "      <td>A</td>\n",
       "      <td>1.0</td>\n",
       "    </tr>\n",
       "  </tbody>\n",
       "</table>\n",
       "<p>116 rows × 8 columns</p>\n",
       "</div>"
      ],
      "text/plain": [
       "                               id                  name  \\\n",
       "email                                                     \n",
       "caban@ucsd.edu           133387.0    Cecilia Marie Aban   \n",
       "rmamador@ucsd.edu        165708.0        Ricardo Amador   \n",
       "iamangeldi@ucsd.edu      159720.0    Imangali Amangeldi   \n",
       "hamarovillamar@ucsd.edu  137827.0  Heidy Amaro-Villamar   \n",
       "gbarrosk@ucsd.edu         97951.0   Griffin Barros-King   \n",
       "...                           ...                   ...   \n",
       "Gbarrosk@ucsd.edu             NaN                   NaN   \n",
       "aklinefelter@ucsd.edu         NaN                   NaN   \n",
       "awinograd@ucsd.edu            NaN                   NaN   \n",
       "corvoleaf712@gmail.com        NaN                   NaN   \n",
       "rbatubara@ucsd.edu            NaN                   NaN   \n",
       "\n",
       "                                     typed_email    Last Name     First Name  \\\n",
       "email                                                                          \n",
       "caban@ucsd.edu                    caban@ucsd.edu         Aban  Cecilia Marie   \n",
       "rmamador@ucsd.edu                            NaN          NaN            NaN   \n",
       "iamangeldi@ucsd.edu                          NaN          NaN            NaN   \n",
       "hamarovillamar@ucsd.edu  hamarovillamar@ucsd.edu        Amaro          Heidy   \n",
       "gbarrosk@ucsd.edu                            NaN          NaN            NaN   \n",
       "...                                          ...          ...            ...   \n",
       "Gbarrosk@ucsd.edu              Gbarrosk@ucsd.edu  Barros-King        Griffin   \n",
       "aklinefelter@ucsd.edu      aklinefelter@ucsd.edu  Klinefelter          Aiden   \n",
       "awinograd@ucsd.edu            awinograd@ucsd.edu     Winograd            Ari   \n",
       "corvoleaf712@gmail.com    corvoleaf712@gmail.com        ZHANG         SHUHAO   \n",
       "rbatubara@ucsd.edu            rbatubara@ucsd.edu     Batubara           Ryan   \n",
       "\n",
       "                        Student Identifier Session 1  Lecture 01 (09/29)  \n",
       "email                                                                     \n",
       "caban@ucsd.edu                   A16841386         D                 1.0  \n",
       "rmamador@ucsd.edu                      NaN       NaN                 0.0  \n",
       "iamangeldi@ucsd.edu                    NaN       NaN                 0.0  \n",
       "hamarovillamar@ucsd.edu          A17096411         A                 1.0  \n",
       "gbarrosk@ucsd.edu                      NaN       NaN                 0.0  \n",
       "...                                    ...       ...                 ...  \n",
       "Gbarrosk@ucsd.edu                A16519765       NaN                 0.0  \n",
       "aklinefelter@ucsd.edu            A17036379         D                 1.0  \n",
       "awinograd@ucsd.edu               A16640024         A                 1.0  \n",
       "corvoleaf712@gmail.com           U09807043       NaN                 0.0  \n",
       "rbatubara@ucsd.edu               A17407896         A                 1.0  \n",
       "\n",
       "[116 rows x 8 columns]"
      ]
     },
     "execution_count": 7,
     "metadata": {},
     "output_type": "execute_result"
    }
   ],
   "source": [
    "# setup\n",
    "fname = \"DSC20 Votes.csv\"  # change file name\n",
    "aname = 'Lecture 01 (09/29)'  # change for each lecture\n",
    "\n",
    "# create gradebook\n",
    "wc = WebClicker(COURSE, STUDENTS, STAFF, EMAIL_RECORDS, fname, aname)\n",
    "gradebook = wc.create_gradebook(session=1, min_poll=0.5) # change session name\n",
    "gradebook"
   ]
  },
  {
   "cell_type": "code",
   "execution_count": 9,
   "metadata": {},
   "outputs": [
    {
     "name": "stdout",
     "output_type": "stream",
     "text": [
      "Processing Participation: Lecture 01 (09/29)\n",
      "Updating Canvas Grades - Main Assignment\n",
      "done\n",
      "\n"
     ]
    },
    {
     "data": {
      "text/html": [
       "<div>\n",
       "<style scoped>\n",
       "    .dataframe tbody tr th:only-of-type {\n",
       "        vertical-align: middle;\n",
       "    }\n",
       "\n",
       "    .dataframe tbody tr th {\n",
       "        vertical-align: top;\n",
       "    }\n",
       "\n",
       "    .dataframe thead th {\n",
       "        text-align: right;\n",
       "    }\n",
       "</style>\n",
       "<table border=\"1\" class=\"dataframe\">\n",
       "  <thead>\n",
       "    <tr style=\"text-align: right;\">\n",
       "      <th></th>\n",
       "      <th>id</th>\n",
       "      <th>name</th>\n",
       "      <th>typed_email</th>\n",
       "      <th>Last Name</th>\n",
       "      <th>First Name</th>\n",
       "      <th>Student Identifier</th>\n",
       "      <th>Session 1</th>\n",
       "      <th>Lecture 01 (09/29)</th>\n",
       "    </tr>\n",
       "    <tr>\n",
       "      <th>email</th>\n",
       "      <th></th>\n",
       "      <th></th>\n",
       "      <th></th>\n",
       "      <th></th>\n",
       "      <th></th>\n",
       "      <th></th>\n",
       "      <th></th>\n",
       "      <th></th>\n",
       "    </tr>\n",
       "  </thead>\n",
       "  <tbody>\n",
       "    <tr>\n",
       "      <th>Gbarrosk@ucsd.edu</th>\n",
       "      <td>NaN</td>\n",
       "      <td>NaN</td>\n",
       "      <td>Gbarrosk@ucsd.edu</td>\n",
       "      <td>Barros-King</td>\n",
       "      <td>Griffin</td>\n",
       "      <td>A16519765</td>\n",
       "      <td>NaN</td>\n",
       "      <td>0.0</td>\n",
       "    </tr>\n",
       "    <tr>\n",
       "      <th>aklinefelter@ucsd.edu</th>\n",
       "      <td>NaN</td>\n",
       "      <td>NaN</td>\n",
       "      <td>aklinefelter@ucsd.edu</td>\n",
       "      <td>Klinefelter</td>\n",
       "      <td>Aiden</td>\n",
       "      <td>A17036379</td>\n",
       "      <td>D</td>\n",
       "      <td>1.0</td>\n",
       "    </tr>\n",
       "    <tr>\n",
       "      <th>awinograd@ucsd.edu</th>\n",
       "      <td>NaN</td>\n",
       "      <td>NaN</td>\n",
       "      <td>awinograd@ucsd.edu</td>\n",
       "      <td>Winograd</td>\n",
       "      <td>Ari</td>\n",
       "      <td>A16640024</td>\n",
       "      <td>A</td>\n",
       "      <td>1.0</td>\n",
       "    </tr>\n",
       "    <tr>\n",
       "      <th>corvoleaf712@gmail.com</th>\n",
       "      <td>NaN</td>\n",
       "      <td>NaN</td>\n",
       "      <td>corvoleaf712@gmail.com</td>\n",
       "      <td>ZHANG</td>\n",
       "      <td>SHUHAO</td>\n",
       "      <td>U09807043</td>\n",
       "      <td>NaN</td>\n",
       "      <td>0.0</td>\n",
       "    </tr>\n",
       "    <tr>\n",
       "      <th>rbatubara@ucsd.edu</th>\n",
       "      <td>NaN</td>\n",
       "      <td>NaN</td>\n",
       "      <td>rbatubara@ucsd.edu</td>\n",
       "      <td>Batubara</td>\n",
       "      <td>Ryan</td>\n",
       "      <td>A17407896</td>\n",
       "      <td>A</td>\n",
       "      <td>1.0</td>\n",
       "    </tr>\n",
       "  </tbody>\n",
       "</table>\n",
       "</div>"
      ],
      "text/plain": [
       "                        id name             typed_email    Last Name  \\\n",
       "email                                                                  \n",
       "Gbarrosk@ucsd.edu      NaN  NaN       Gbarrosk@ucsd.edu  Barros-King   \n",
       "aklinefelter@ucsd.edu  NaN  NaN   aklinefelter@ucsd.edu  Klinefelter   \n",
       "awinograd@ucsd.edu     NaN  NaN      awinograd@ucsd.edu     Winograd   \n",
       "corvoleaf712@gmail.com NaN  NaN  corvoleaf712@gmail.com        ZHANG   \n",
       "rbatubara@ucsd.edu     NaN  NaN      rbatubara@ucsd.edu     Batubara   \n",
       "\n",
       "                       First Name Student Identifier Session 1  \\\n",
       "email                                                            \n",
       "Gbarrosk@ucsd.edu         Griffin          A16519765       NaN   \n",
       "aklinefelter@ucsd.edu       Aiden          A17036379         D   \n",
       "awinograd@ucsd.edu            Ari          A16640024         A   \n",
       "corvoleaf712@gmail.com     SHUHAO          U09807043       NaN   \n",
       "rbatubara@ucsd.edu           Ryan          A17407896         A   \n",
       "\n",
       "                        Lecture 01 (09/29)  \n",
       "email                                       \n",
       "Gbarrosk@ucsd.edu                      0.0  \n",
       "aklinefelter@ucsd.edu                  1.0  \n",
       "awinograd@ucsd.edu                     1.0  \n",
       "corvoleaf712@gmail.com                 0.0  \n",
       "rbatubara@ucsd.edu                     1.0  "
      ]
     },
     "execution_count": 9,
     "metadata": {},
     "output_type": "execute_result"
    }
   ],
   "source": [
    "# once inspected, enter grades\n",
    "wc.enter_grades()"
   ]
  },
  {
   "cell_type": "markdown",
   "metadata": {},
   "source": [
    "### Zybook Readings"
   ]
  },
  {
   "cell_type": "code",
   "execution_count": null,
   "metadata": {},
   "outputs": [],
   "source": [
    "# setup\n",
    "fname = \"lec01.csv\"  # change file name\n",
    "aname = 'Zybook Readings 01 (09/23)'  # change for each assignment\n",
    "due_time = None\n",
    "\n",
    "# create gradebook\n",
    "zy_reading = Zybook(COURSE, STUDENTS, STAFF, EMAIL_RECORDS, fname, aname, due_time=due_time)\n",
    "config = {\n",
    "    '10.1': ['Participation', 'Challenge'],\n",
    "    '10.2': ['Participation', 'Challenge'],\n",
    "    '10.3': ['Participation', 'Challenge']\n",
    "}\n",
    "gradebook = zy_reading.create_gradebook(config=config)\n",
    "gradebook"
   ]
  },
  {
   "cell_type": "code",
   "execution_count": null,
   "metadata": {},
   "outputs": [],
   "source": [
    "# once inspected, enter grades\n",
    "zy_reading.enter_grades()"
   ]
  },
  {
   "cell_type": "markdown",
   "metadata": {},
   "source": [
    "### Discussion Zylabs"
   ]
  },
  {
   "cell_type": "code",
   "execution_count": null,
   "metadata": {},
   "outputs": [],
   "source": [
    "# setup\n",
    "fname = \"disc01.csv\"  # change file name\n",
    "aname = 'Discussion Zylab Week 1 (09/27)'  # change for each assignment\n",
    "due_time = '2022-11-22 23:59'\n",
    "\n",
    "# create gradebook\n",
    "disc_zylab = Zybook(\n",
    "    COURSE, STUDENTS, STAFF, EMAIL_RECORDS, fname, aname,\n",
    "    dir_name='zylab',\n",
    "    assignment_group='Discussion Zylab',\n",
    "    due_time=due_time\n",
    ")\n",
    "config = {\n",
    "    '9.12': ['Lab'],\n",
    "    '9.13': ['Lab'],\n",
    "    '13.4': ['Participation'],\n",
    "    '13.8': ['Lab'],\n",
    "    '26.21': ['Lab']\n",
    "}\n",
    "gradebook = disc_zylab.create_gradebook(config=config)\n",
    "gradebook"
   ]
  },
  {
   "cell_type": "code",
   "execution_count": null,
   "metadata": {},
   "outputs": [],
   "source": [
    "# once inspected, enter grades\n",
    "disc_zylab.enter_grades()"
   ]
  },
  {
   "cell_type": "markdown",
   "metadata": {},
   "source": [
    "### Gradescope Homework/Project"
   ]
  },
  {
   "cell_type": "code",
   "execution_count": null,
   "metadata": {},
   "outputs": [],
   "source": [
    "aname = 'hw01'  # change for each assignment\n",
    "fname = aname + \"_scores.csv\"  # main file name\n",
    "due_time = '2022-01-17 23:59'\n",
    "\n",
    "# other files\n",
    "lateness_file = aname + \"_lateness.csv\"  # lateness file name\n",
    "redemption_file = aname + \"_redemption.csv\" # redemption file name\n",
    "other_section_files = {\n",
    "    'checkpoint': aname + '_checkpoint.csv',\n",
    "    # 'quiz': aname + '_quiz.csv'\n",
    "}\n",
    "\n",
    "# create gradebook\n",
    "gs_hw = Gradescope(\n",
    "    COURSE, STUDENTS, STAFF, EMAIL_RECORDS, fname, aname,\n",
    "    lateness_policy='slip_day',\n",
    "    lateness_file=lateness_file,\n",
    "    redemption_file=redemption_file,\n",
    "    redemption_rate=0.8,\n",
    "    total_slip_days=5,\n",
    "    other_section_files=other_section_files,\n",
    "    due_time=due_time\n",
    ")\n",
    "\n",
    "# late_policy = {\n",
    "#     'no late': 1.0,\n",
    "#     '1 day': 0.8,\n",
    "#     '2 days': 0.5\n",
    "# }\n",
    "\n",
    "gradebook = gs_hw.create_gradebook()  # defaults take 1 slip day\n",
    "gradebook"
   ]
  },
  {
   "cell_type": "code",
   "execution_count": null,
   "metadata": {
    "scrolled": true
   },
   "outputs": [],
   "source": [
    "# once inspected, enter grades\n",
    "mismatch = gs_hw.enter_grades()\n",
    "mismatch"
   ]
  },
  {
   "cell_type": "code",
   "execution_count": null,
   "metadata": {
    "scrolled": true
   },
   "outputs": [],
   "source": [
    "gs_hw.process_slip_day()"
   ]
  },
  {
   "cell_type": "markdown",
   "metadata": {},
   "source": [
    "### Student Search"
   ]
  },
  {
   "cell_type": "code",
   "execution_count": null,
   "metadata": {},
   "outputs": [],
   "source": [
    "# find student\n",
    "STUDENTS[STUDENTS['email'].str.lower().str.contains('<email>')]"
   ]
  },
  {
   "cell_type": "code",
   "execution_count": null,
   "metadata": {},
   "outputs": [],
   "source": [
    "# find grade: version 1\n",
    "gradebook[gradebook.index.str.lower().str.contains('<email>', na=False)]"
   ]
  },
  {
   "cell_type": "code",
   "execution_count": null,
   "metadata": {},
   "outputs": [],
   "source": [
    "# find grade: version 2\n",
    "gradebook[gradebook['name'].str.lower().str.contains('<name>', na=False)]"
   ]
  },
  {
   "cell_type": "markdown",
   "metadata": {},
   "source": [
    "### Debug Results"
   ]
  },
  {
   "cell_type": "code",
   "execution_count": null,
   "metadata": {},
   "outputs": [],
   "source": [
    "# modify EMAIL_RECORDS\n",
    "EMAIL_RECORDS['shreyamusini@gmail.com'] = 'shmusini@ucsd.edu'"
   ]
  },
  {
   "cell_type": "code",
   "execution_count": null,
   "metadata": {},
   "outputs": [],
   "source": [
    "EMAIL_RECORDS"
   ]
  },
  {
   "cell_type": "code",
   "execution_count": null,
   "metadata": {},
   "outputs": [],
   "source": [
    "# DO NOT FORGET to update file\n",
    "with open('.info/email_records.json', 'w') as f:\n",
    "    json.dump(EMAIL_RECORDS, f, sort_keys=True)"
   ]
  },
  {
   "cell_type": "code",
   "execution_count": null,
   "metadata": {},
   "outputs": [],
   "source": []
  }
 ],
 "metadata": {
  "kernelspec": {
   "display_name": "Python 3 (ipykernel)",
   "language": "python",
   "name": "python3"
  },
  "language_info": {
   "codemirror_mode": {
    "name": "ipython",
    "version": 3
   },
   "file_extension": ".py",
   "mimetype": "text/x-python",
   "name": "python",
   "nbconvert_exporter": "python",
   "pygments_lexer": "ipython3",
   "version": "3.9.13"
  },
  "latex_envs": {
   "LaTeX_envs_menu_present": true,
   "autoclose": false,
   "autocomplete": true,
   "bibliofile": "biblio.bib",
   "cite_by": "apalike",
   "current_citInitial": 1,
   "eqLabelWithNumbers": true,
   "eqNumInitial": 1,
   "hotkeys": {
    "equation": "Ctrl-E",
    "itemize": "Ctrl-I"
   },
   "labels_anchors": false,
   "latex_user_defs": false,
   "report_style_numbering": false,
   "user_envs_cfg": false
  },
  "vscode": {
   "interpreter": {
    "hash": "57bc2b6ce032b5f0e93daa91901b7ea38a856826ef43aa9e95b6d3999f5310df"
   }
  }
 },
 "nbformat": 4,
 "nbformat_minor": 2
}
