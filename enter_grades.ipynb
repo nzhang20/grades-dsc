{
 "cells": [
  {
   "cell_type": "markdown",
   "metadata": {},
   "source": [
    "## DSC Courses: Assignment Grades Main"
   ]
  },
  {
   "cell_type": "code",
   "execution_count": 30,
   "metadata": {},
   "outputs": [],
   "source": [
    "import sys\n",
    "sys.path.insert(0, 'src')\n",
    "\n",
    "# tables\n",
    "import numpy as np\n",
    "import pandas as pd\n",
    "\n",
    "# basic packages\n",
    "from glob import glob\n",
    "import json\n",
    "import re\n",
    "\n",
    "# grades, canvas\n",
    "from canvasapi import Canvas\n",
    "from third_parties import *"
   ]
  },
  {
   "cell_type": "markdown",
   "metadata": {},
   "source": [
    "### Setup"
   ]
  },
  {
   "cell_type": "markdown",
   "metadata": {},
   "source": [
    "#### Canvas Setup"
   ]
  },
  {
   "cell_type": "code",
   "execution_count": 31,
   "metadata": {},
   "outputs": [],
   "source": [
    "# load credential\n",
    "CREDENTIAL_FILE = '.info/canvas_credentials.json'\n",
    "with open(CREDENTIAL_FILE) as f:\n",
    "    canvas_credential = json.load(f)"
   ]
  },
  {
   "cell_type": "code",
   "execution_count": 32,
   "metadata": {},
   "outputs": [
    {
     "name": "stdout",
     "output_type": "stream",
     "text": [
      "DSC 20 - Prgrmng/DataStruc for Data Sci - Langlois [FA23]\n"
     ]
    }
   ],
   "source": [
    "# Setup: Canvas\n",
    "API_URL = \"https://canvas.ucsd.edu/\"\n",
    "API_KEY = canvas_credential['API_KEY']        # Generate Access Token from Canvas\n",
    "COURSE_ID = canvas_credential['COURSE_ID']    # From Canvas Website\n",
    "COURSE = Canvas(API_URL, API_KEY).get_course(COURSE_ID)\n",
    "\n",
    "print(COURSE.name) # make sure title and quarter is correct"
   ]
  },
  {
   "cell_type": "markdown",
   "metadata": {},
   "source": [
    "#### Personnel Setup"
   ]
  },
  {
   "cell_type": "code",
   "execution_count": 33,
   "metadata": {},
   "outputs": [
    {
     "name": "stdout",
     "output_type": "stream",
     "text": [
      "112\n"
     ]
    }
   ],
   "source": [
    "# Setup: Student Profiles (ID, Name, Email)\n",
    "student_ls = []\n",
    "for stu in COURSE.get_users(enrollment_type=['student'], enrollment_state=['active']):\n",
    "    student_ls.append([stu.id, stu.name, stu.email])\n",
    "STUDENTS = pd.DataFrame(student_ls, columns=[\"id\", \"name\", \"email\"])\n",
    "STUDENTS.to_csv(\".info/students.csv\")\n",
    "print(STUDENTS.shape[0])"
   ]
  },
  {
   "cell_type": "code",
   "execution_count": 34,
   "metadata": {},
   "outputs": [],
   "source": [
    "# Setup: Staff Profiles\n",
    "STAFF = pd.read_csv('.info/staff_fa23.csv')['Email'].unique()"
   ]
  },
  {
   "cell_type": "code",
   "execution_count": 35,
   "metadata": {},
   "outputs": [
    {
     "data": {
      "text/plain": [
       "{}"
      ]
     },
     "execution_count": 35,
     "metadata": {},
     "output_type": "execute_result"
    }
   ],
   "source": [
    "# Setup: Mismatched emails\n",
    "with open('.info/email_records.json') as f:\n",
    "    EMAIL_RECORDS = json.load(f)\n",
    "EMAIL_RECORDS"
   ]
  },
  {
   "cell_type": "markdown",
   "metadata": {},
   "source": [
    "### Slido"
   ]
  },
  {
   "cell_type": "code",
   "execution_count": null,
   "metadata": {
    "scrolled": false
   },
   "outputs": [],
   "source": [
    "# setup\n",
    "fname = \"lec01.xlsx\"  # change file name\n",
    "aname = 'Lecture 01 (09/23)'  # change for each lecture\n",
    "\n",
    "# create gradebook\n",
    "slido_lec = Slido(COURSE, STUDENTS, STAFF, EMAIL_RECORDS, fname, aname)\n",
    "gradebook = slido_lec.create_gradebook()\n",
    "gradebook"
   ]
  },
  {
   "cell_type": "code",
   "execution_count": null,
   "metadata": {
    "scrolled": true
   },
   "outputs": [],
   "source": [
    "# once inspected, enter grades\n",
    "slido_lec.enter_grades()"
   ]
  },
  {
   "cell_type": "markdown",
   "metadata": {},
   "source": [
    "### WebClicker"
   ]
  },
  {
   "cell_type": "code",
   "execution_count": 36,
   "metadata": {},
   "outputs": [
    {
     "ename": "AttributeError",
     "evalue": "'WebClicker' object has no attribute 'use_name'",
     "output_type": "error",
     "traceback": [
      "\u001b[1;31m---------------------------------------------------------------------------\u001b[0m",
      "\u001b[1;31mAttributeError\u001b[0m                            Traceback (most recent call last)",
      "\u001b[1;32m~\\AppData\\Local\\Temp\\ipykernel_29668\\3619251799.py\u001b[0m in \u001b[0;36m<module>\u001b[1;34m\u001b[0m\n\u001b[0;32m      4\u001b[0m \u001b[1;33m\u001b[0m\u001b[0m\n\u001b[0;32m      5\u001b[0m \u001b[1;31m# create gradebook\u001b[0m\u001b[1;33m\u001b[0m\u001b[1;33m\u001b[0m\u001b[0m\n\u001b[1;32m----> 6\u001b[1;33m \u001b[0mwc\u001b[0m \u001b[1;33m=\u001b[0m \u001b[0mWebClicker\u001b[0m\u001b[1;33m(\u001b[0m\u001b[0mCOURSE\u001b[0m\u001b[1;33m,\u001b[0m \u001b[0mSTUDENTS\u001b[0m\u001b[1;33m,\u001b[0m \u001b[0mSTAFF\u001b[0m\u001b[1;33m,\u001b[0m \u001b[0mEMAIL_RECORDS\u001b[0m\u001b[1;33m,\u001b[0m \u001b[0mfname\u001b[0m\u001b[1;33m,\u001b[0m \u001b[0maname\u001b[0m\u001b[1;33m)\u001b[0m\u001b[1;33m\u001b[0m\u001b[1;33m\u001b[0m\u001b[0m\n\u001b[0m\u001b[0;32m      7\u001b[0m \u001b[0mgradebook\u001b[0m \u001b[1;33m=\u001b[0m \u001b[0mwc\u001b[0m\u001b[1;33m.\u001b[0m\u001b[0mcreate_gradebook\u001b[0m\u001b[1;33m(\u001b[0m\u001b[0msession\u001b[0m\u001b[1;33m=\u001b[0m\u001b[1;36m1\u001b[0m\u001b[1;33m,\u001b[0m \u001b[0mmin_poll\u001b[0m\u001b[1;33m=\u001b[0m\u001b[1;36m0.5\u001b[0m\u001b[1;33m)\u001b[0m \u001b[1;31m# change session name\u001b[0m\u001b[1;33m\u001b[0m\u001b[1;33m\u001b[0m\u001b[0m\n\u001b[0;32m      8\u001b[0m \u001b[0mgradebook\u001b[0m\u001b[1;33m\u001b[0m\u001b[1;33m\u001b[0m\u001b[0m\n",
      "\u001b[1;32m~\\OneDrive\\Documents\\GitHub\\grades-dsc\\src\\third_parties.py\u001b[0m in \u001b[0;36m__init__\u001b[1;34m(self, course, students, staff, email_records, file_name, assignment_name, dir_name, assignment_group)\u001b[0m\n\u001b[0;32m     76\u001b[0m         \u001b[0massignment_group\u001b[0m\u001b[1;33m=\u001b[0m\u001b[1;34m'Participation'\u001b[0m\u001b[1;33m\u001b[0m\u001b[1;33m\u001b[0m\u001b[0m\n\u001b[0;32m     77\u001b[0m     ):\n\u001b[1;32m---> 78\u001b[1;33m         super().__init__(\n\u001b[0m\u001b[0;32m     79\u001b[0m             \u001b[0mcourse\u001b[0m\u001b[1;33m,\u001b[0m \u001b[0mstudents\u001b[0m\u001b[1;33m,\u001b[0m \u001b[0mstaff\u001b[0m\u001b[1;33m,\u001b[0m \u001b[0memail_records\u001b[0m\u001b[1;33m,\u001b[0m\u001b[1;33m\u001b[0m\u001b[1;33m\u001b[0m\u001b[0m\n\u001b[0;32m     80\u001b[0m             \u001b[0mfile_name\u001b[0m\u001b[1;33m,\u001b[0m \u001b[0massignment_name\u001b[0m\u001b[1;33m,\u001b[0m\u001b[1;33m\u001b[0m\u001b[1;33m\u001b[0m\u001b[0m\n",
      "\u001b[1;32m~\\OneDrive\\Documents\\GitHub\\grades-dsc\\src\\gradebook.py\u001b[0m in \u001b[0;36m__init__\u001b[1;34m(self, course, students, staff, email_records, file_name, assignment_name, dir_name, assignment_group, assignment_points, due_time)\u001b[0m\n\u001b[0;32m     33\u001b[0m         \u001b[1;31m# assignment details\u001b[0m\u001b[1;33m\u001b[0m\u001b[1;33m\u001b[0m\u001b[0m\n\u001b[0;32m     34\u001b[0m         \u001b[0mself\u001b[0m\u001b[1;33m.\u001b[0m\u001b[0massignment_group_name\u001b[0m \u001b[1;33m=\u001b[0m \u001b[0massignment_group\u001b[0m\u001b[1;33m\u001b[0m\u001b[1;33m\u001b[0m\u001b[0m\n\u001b[1;32m---> 35\u001b[1;33m         \u001b[0mself\u001b[0m\u001b[1;33m.\u001b[0m\u001b[0massignment_group_id\u001b[0m \u001b[1;33m=\u001b[0m \u001b[0mself\u001b[0m\u001b[1;33m.\u001b[0m\u001b[0mfind_assignment_group_id\u001b[0m\u001b[1;33m(\u001b[0m\u001b[1;33m)\u001b[0m\u001b[1;33m\u001b[0m\u001b[1;33m\u001b[0m\u001b[0m\n\u001b[0m\u001b[0;32m     36\u001b[0m         \u001b[0mself\u001b[0m\u001b[1;33m.\u001b[0m\u001b[0massignment_points\u001b[0m \u001b[1;33m=\u001b[0m \u001b[0massignment_points\u001b[0m\u001b[1;33m\u001b[0m\u001b[1;33m\u001b[0m\u001b[0m\n\u001b[0;32m     37\u001b[0m         \u001b[0mself\u001b[0m\u001b[1;33m.\u001b[0m\u001b[0mdue_time\u001b[0m \u001b[1;33m=\u001b[0m \u001b[0mdue_time\u001b[0m\u001b[1;33m\u001b[0m\u001b[1;33m\u001b[0m\u001b[0m\n",
      "\u001b[1;32m~\\OneDrive\\Documents\\GitHub\\grades-dsc\\src\\gradebook.py\u001b[0m in \u001b[0;36mfind_assignment_group_id\u001b[1;34m(self, force_other_group)\u001b[0m\n\u001b[0;32m     46\u001b[0m         \u001b[0muse_name\u001b[0m \u001b[1;33m=\u001b[0m \u001b[0mself\u001b[0m\u001b[1;33m.\u001b[0m\u001b[0massignment_group_name\u001b[0m \u001b[1;32mif\u001b[0m \u001b[0mforce_other_group\u001b[0m \u001b[1;32mis\u001b[0m \u001b[1;32mnot\u001b[0m \u001b[1;32mNone\u001b[0m \u001b[1;32melse\u001b[0m \u001b[0mforce_other_group\u001b[0m\u001b[1;33m\u001b[0m\u001b[1;33m\u001b[0m\u001b[0m\n\u001b[0;32m     47\u001b[0m         \u001b[1;32mfor\u001b[0m \u001b[0mgroup\u001b[0m \u001b[1;32min\u001b[0m \u001b[0mself\u001b[0m\u001b[1;33m.\u001b[0m\u001b[0mcourse\u001b[0m\u001b[1;33m.\u001b[0m\u001b[0mget_assignment_groups\u001b[0m\u001b[1;33m(\u001b[0m\u001b[1;33m)\u001b[0m\u001b[1;33m:\u001b[0m\u001b[1;33m\u001b[0m\u001b[1;33m\u001b[0m\u001b[0m\n\u001b[1;32m---> 48\u001b[1;33m             \u001b[1;32mif\u001b[0m \u001b[0mgroup\u001b[0m\u001b[1;33m.\u001b[0m\u001b[0mname\u001b[0m \u001b[1;33m==\u001b[0m \u001b[0mself\u001b[0m\u001b[1;33m.\u001b[0m\u001b[0muse_name\u001b[0m\u001b[1;33m:\u001b[0m\u001b[1;33m\u001b[0m\u001b[1;33m\u001b[0m\u001b[0m\n\u001b[0m\u001b[0;32m     49\u001b[0m                 \u001b[1;32mreturn\u001b[0m \u001b[0mgroup\u001b[0m\u001b[1;33m.\u001b[0m\u001b[0mid\u001b[0m\u001b[1;33m\u001b[0m\u001b[1;33m\u001b[0m\u001b[0m\n\u001b[0;32m     50\u001b[0m \u001b[1;33m\u001b[0m\u001b[0m\n",
      "\u001b[1;31mAttributeError\u001b[0m: 'WebClicker' object has no attribute 'use_name'"
     ]
    }
   ],
   "source": [
    "# setup\n",
    "fname = \"DSC20 Votes.csv\"  # change file name\n",
    "aname = 'Lecture 01 (09/29)'  # change for each lecture\n",
    "\n",
    "# create gradebook\n",
    "wc = WebClicker(COURSE, STUDENTS, STAFF, EMAIL_RECORDS, fname, aname)\n",
    "gradebook = wc.create_gradebook(session=1, min_poll=0.5) # change session name\n",
    "gradebook"
   ]
  },
  {
   "cell_type": "code",
   "execution_count": null,
   "metadata": {},
   "outputs": [],
   "source": [
    "# replace values starting with 'X' with NaN\n",
    "self.gradebook[session_cols] = (\n",
    "    self.gradebook[session_cols]\n",
    "    .replace(to_replace = r'X[A-Z]', value = np.nan, regex = True)\n",
    ")"
   ]
  },
  {
   "cell_type": "code",
   "execution_count": 8,
   "metadata": {},
   "outputs": [
    {
     "ename": "NameError",
     "evalue": "name 'wc' is not defined",
     "output_type": "error",
     "traceback": [
      "\u001b[1;31m---------------------------------------------------------------------------\u001b[0m",
      "\u001b[1;31mNameError\u001b[0m                                 Traceback (most recent call last)",
      "\u001b[1;32m~\\AppData\\Local\\Temp\\ipykernel_29668\\219276739.py\u001b[0m in \u001b[0;36m<module>\u001b[1;34m\u001b[0m\n\u001b[0;32m      1\u001b[0m \u001b[1;31m# once inspected, enter grades\u001b[0m\u001b[1;33m\u001b[0m\u001b[1;33m\u001b[0m\u001b[0m\n\u001b[1;32m----> 2\u001b[1;33m \u001b[0mwc\u001b[0m\u001b[1;33m.\u001b[0m\u001b[0menter_grades\u001b[0m\u001b[1;33m(\u001b[0m\u001b[1;33m)\u001b[0m\u001b[1;33m\u001b[0m\u001b[1;33m\u001b[0m\u001b[0m\n\u001b[0m",
      "\u001b[1;31mNameError\u001b[0m: name 'wc' is not defined"
     ]
    }
   ],
   "source": [
    "# once inspected, enter grades\n",
    "wc.enter_grades()"
   ]
  },
  {
   "cell_type": "markdown",
   "metadata": {},
   "source": [
    "### Zybook Readings"
   ]
  },
  {
   "cell_type": "code",
   "execution_count": null,
   "metadata": {},
   "outputs": [],
   "source": [
    "# setup\n",
    "fname = \"lec01.csv\"  # change file name\n",
    "aname = 'Zybook Readings 01 (09/23)'  # change for each assignment\n",
    "due_time = None\n",
    "\n",
    "# create gradebook\n",
    "zy_reading = Zybook(COURSE, STUDENTS, STAFF, EMAIL_RECORDS, fname, aname, due_time=due_time)\n",
    "config = {\n",
    "    '10.1': ['Participation', 'Challenge'],\n",
    "    '10.2': ['Participation', 'Challenge'],\n",
    "    '10.3': ['Participation', 'Challenge']\n",
    "}\n",
    "gradebook = zy_reading.create_gradebook(config=config)\n",
    "gradebook"
   ]
  },
  {
   "cell_type": "code",
   "execution_count": null,
   "metadata": {},
   "outputs": [],
   "source": [
    "# once inspected, enter grades\n",
    "zy_reading.enter_grades()"
   ]
  },
  {
   "cell_type": "markdown",
   "metadata": {},
   "source": [
    "### Discussion Zylabs"
   ]
  },
  {
   "cell_type": "code",
   "execution_count": null,
   "metadata": {},
   "outputs": [],
   "source": [
    "# setup\n",
    "fname = \"disc01.csv\"  # change file name\n",
    "aname = 'Discussion Zylab Week 1 (09/27)'  # change for each assignment\n",
    "due_time = '2022-11-22 23:59'\n",
    "\n",
    "# create gradebook\n",
    "disc_zylab = Zybook(\n",
    "    COURSE, STUDENTS, STAFF, EMAIL_RECORDS, fname, aname,\n",
    "    dir_name='zylab',\n",
    "    assignment_group='Discussion Zylab',\n",
    "    due_time=due_time\n",
    ")\n",
    "config = {\n",
    "    '9.12': ['Lab'],\n",
    "    '9.13': ['Lab'],\n",
    "    '13.4': ['Participation'],\n",
    "    '13.8': ['Lab'],\n",
    "    '26.21': ['Lab']\n",
    "}\n",
    "gradebook = disc_zylab.create_gradebook(config=config)\n",
    "gradebook"
   ]
  },
  {
   "cell_type": "code",
   "execution_count": null,
   "metadata": {},
   "outputs": [],
   "source": [
    "# once inspected, enter grades\n",
    "disc_zylab.enter_grades()"
   ]
  },
  {
   "cell_type": "markdown",
   "metadata": {},
   "source": [
    "### Gradescope Homework/Project"
   ]
  },
  {
   "cell_type": "code",
   "execution_count": null,
   "metadata": {},
   "outputs": [],
   "source": [
    "aname = 'hw01'  # change for each assignment\n",
    "fname = aname + \"_scores.csv\"  # main file name\n",
    "due_time = '2022-01-17 23:59'\n",
    "\n",
    "# other files\n",
    "lateness_file = aname + \"_lateness.csv\"  # lateness file name\n",
    "redemption_file = aname + \"_redemption.csv\" # redemption file name\n",
    "other_section_files = {\n",
    "    'checkpoint': aname + '_checkpoint.csv',\n",
    "    # 'quiz': aname + '_quiz.csv'\n",
    "}\n",
    "\n",
    "# create gradebook\n",
    "gs_hw = Gradescope(\n",
    "    COURSE, STUDENTS, STAFF, EMAIL_RECORDS, fname, aname,\n",
    "    lateness_policy='slip_day',\n",
    "    lateness_file=lateness_file,\n",
    "    redemption_file=redemption_file,\n",
    "    redemption_rate=0.8,\n",
    "    total_slip_days=5,\n",
    "    other_section_files=other_section_files,\n",
    "    due_time=due_time\n",
    ")\n",
    "\n",
    "# late_policy = {\n",
    "#     'no late': 1.0,\n",
    "#     '1 day': 0.8,\n",
    "#     '2 days': 0.5\n",
    "# }\n",
    "\n",
    "gradebook = gs_hw.create_gradebook()  # defaults take 1 slip day\n",
    "gradebook"
   ]
  },
  {
   "cell_type": "code",
   "execution_count": null,
   "metadata": {
    "scrolled": true
   },
   "outputs": [],
   "source": [
    "# once inspected, enter grades\n",
    "mismatch = gs_hw.enter_grades()\n",
    "mismatch"
   ]
  },
  {
   "cell_type": "code",
   "execution_count": null,
   "metadata": {
    "scrolled": true
   },
   "outputs": [],
   "source": [
    "gs_hw.process_slip_day()"
   ]
  },
  {
   "cell_type": "markdown",
   "metadata": {},
   "source": [
    "### Student Search"
   ]
  },
  {
   "cell_type": "code",
   "execution_count": null,
   "metadata": {},
   "outputs": [],
   "source": [
    "# find student\n",
    "STUDENTS[STUDENTS['email'].str.lower().str.contains('<email>')]"
   ]
  },
  {
   "cell_type": "code",
   "execution_count": null,
   "metadata": {},
   "outputs": [],
   "source": [
    "# find grade: version 1\n",
    "gradebook[gradebook.index.str.lower().str.contains('<email>', na=False)]"
   ]
  },
  {
   "cell_type": "code",
   "execution_count": null,
   "metadata": {},
   "outputs": [],
   "source": [
    "# find grade: version 2\n",
    "gradebook[gradebook['name'].str.lower().str.contains('<name>', na=False)]"
   ]
  },
  {
   "cell_type": "markdown",
   "metadata": {},
   "source": [
    "### Debug Results"
   ]
  },
  {
   "cell_type": "code",
   "execution_count": null,
   "metadata": {},
   "outputs": [],
   "source": [
    "# modify EMAIL_RECORDS\n",
    "EMAIL_RECORDS['shreyamusini@gmail.com'] = 'shmusini@ucsd.edu'"
   ]
  },
  {
   "cell_type": "code",
   "execution_count": null,
   "metadata": {},
   "outputs": [],
   "source": [
    "EMAIL_RECORDS"
   ]
  },
  {
   "cell_type": "code",
   "execution_count": null,
   "metadata": {},
   "outputs": [],
   "source": [
    "# DO NOT FORGET to update file\n",
    "with open('.info/email_records.json', 'w') as f:\n",
    "    json.dump(EMAIL_RECORDS, f, sort_keys=True)"
   ]
  },
  {
   "cell_type": "code",
   "execution_count": null,
   "metadata": {},
   "outputs": [],
   "source": []
  }
 ],
 "metadata": {
  "kernelspec": {
   "display_name": "Python 3 (ipykernel)",
   "language": "python",
   "name": "python3"
  },
  "language_info": {
   "codemirror_mode": {
    "name": "ipython",
    "version": 3
   },
   "file_extension": ".py",
   "mimetype": "text/x-python",
   "name": "python",
   "nbconvert_exporter": "python",
   "pygments_lexer": "ipython3",
   "version": "3.9.13"
  },
  "latex_envs": {
   "LaTeX_envs_menu_present": true,
   "autoclose": false,
   "autocomplete": true,
   "bibliofile": "biblio.bib",
   "cite_by": "apalike",
   "current_citInitial": 1,
   "eqLabelWithNumbers": true,
   "eqNumInitial": 1,
   "hotkeys": {
    "equation": "Ctrl-E",
    "itemize": "Ctrl-I"
   },
   "labels_anchors": false,
   "latex_user_defs": false,
   "report_style_numbering": false,
   "user_envs_cfg": false
  },
  "vscode": {
   "interpreter": {
    "hash": "57bc2b6ce032b5f0e93daa91901b7ea38a856826ef43aa9e95b6d3999f5310df"
   }
  }
 },
 "nbformat": 4,
 "nbformat_minor": 2
}
